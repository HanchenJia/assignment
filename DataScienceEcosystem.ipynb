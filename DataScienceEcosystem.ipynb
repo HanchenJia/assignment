{
 "cells": [
  {
   "cell_type": "markdown",
   "id": "880b5b9c-fae0-408b-869f-9f746750e91f",
   "metadata": {},
   "source": [
    "# Data Science Tools and Ecosystem #"
   ]
  },
  {
   "cell_type": "markdown",
   "id": "aa24cbd2-fe8a-4dcf-8b1c-66786ce3fe02",
   "metadata": {},
   "source": [
    "In this notebook, Data Science Tools and Ecosystem are summarized."
   ]
  },
  {
   "cell_type": "markdown",
   "id": "f573de83-0690-4e47-a30d-b8aa160fcc28",
   "metadata": {},
   "source": [
    "__Objectives:__\n",
    "\n",
    "- List some popular languages for data science\n",
    "- List some commonly used libraries by Data scientists\n",
    "- list few evaluating arithmetic expression in python \n"
   ]
  },
  {
   "cell_type": "markdown",
   "id": "7dbf260a-03e3-4842-915e-f71324a4ef04",
   "metadata": {},
   "source": [
    "Some of the popular languages that Data Scientists use are:\n",
    "\n",
    "\n",
    "1. python\n",
    "2. R\n",
    "3. SQL\n"
   ]
  },
  {
   "cell_type": "markdown",
   "id": "430ab03c-90c7-4ec8-88ab-269163b27fc7",
   "metadata": {},
   "source": [
    "Some of the commonly used libraries used by Data Scientists include:\n",
    "\n",
    "1. pandas\n",
    "2. matplotlib\n",
    "3. ggplot2"
   ]
  },
  {
   "cell_type": "markdown",
   "id": "7af9ddbc-5828-4492-9d31-22ea06fc06d0",
   "metadata": {},
   "source": [
    "|Data Science Tools|\n",
    "|------------------|\n",
    "|RStudio|\n",
    "|JupyterLab|\n",
    "|IBM Watson Studio|\n",
    " \n",
    "\n"
   ]
  },
  {
   "cell_type": "markdown",
   "id": "fb5e4eac-d8ac-41dc-962e-6b2b6e7efad8",
   "metadata": {},
   "source": [
    "### Below are a few examples of evaluating arithmetic expressions in Python ###\n",
    "\n",
    "### + ###\n",
    "### - ###\n",
    "### / ###\n",
    "### * ###\n"
   ]
  },
  {
   "cell_type": "code",
   "execution_count": 3,
   "id": "cd293ca1-a552-4d8e-87e4-ab9f6f5be3e1",
   "metadata": {},
   "outputs": [
    {
     "data": {
      "text/plain": [
       "17"
      ]
     },
     "execution_count": 3,
     "metadata": {},
     "output_type": "execute_result"
    }
   ],
   "source": [
    "#This a simple arithmetic expression to mutiply then add integers\n",
    "(3*4)+5"
   ]
  },
  {
   "cell_type": "code",
   "execution_count": 4,
   "id": "6a13b5c0-6b65-4e36-be63-0f60f5750672",
   "metadata": {},
   "outputs": [
    {
     "data": {
      "text/plain": [
       "3.3333333333333335"
      ]
     },
     "execution_count": 4,
     "metadata": {},
     "output_type": "execute_result"
    }
   ],
   "source": [
    "#This will convert 200 minutes to hours by diving by 60\n",
    "200 / 60"
   ]
  },
  {
   "cell_type": "markdown",
   "id": "6e3c4aeb-a2a2-4c2e-b5ca-d508fd0b45d6",
   "metadata": {},
   "source": [
    "## Author ##\n",
    "Hanchen Jia\n"
   ]
  },
  {
   "cell_type": "code",
   "execution_count": null,
   "id": "c39a4ef3-299f-43cb-9dcd-5f16d45f2405",
   "metadata": {},
   "outputs": [],
   "source": []
  }
 ],
 "metadata": {
  "kernelspec": {
   "display_name": "Python 3 (ipykernel)",
   "language": "python",
   "name": "python3"
  },
  "language_info": {
   "codemirror_mode": {
    "name": "ipython",
    "version": 3
   },
   "file_extension": ".py",
   "mimetype": "text/x-python",
   "name": "python",
   "nbconvert_exporter": "python",
   "pygments_lexer": "ipython3",
   "version": "3.11.5"
  }
 },
 "nbformat": 4,
 "nbformat_minor": 5
}
